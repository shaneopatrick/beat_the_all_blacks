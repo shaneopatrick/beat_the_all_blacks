{
 "cells": [
  {
   "cell_type": "markdown",
   "metadata": {},
   "source": [
    "## 10 possible stats/vizs\n",
    "\n",
    "1. time line of wins & losses\n",
    "    - shortest/longest longest streak before loss\n",
    "    - x axis date, y axis point differential\n",
    "2. dig into territory and possession\n",
    "3. passing & offloads\n",
    "4. attack - kicks from hand, meters, runs, clean breaks, defenders beaten\n",
    "5. set piece play\n",
    "6. penalities\n",
    "7. tackling\n",
    "8. breakdown effectiveness\n",
    "9. location, time, tourney\n",
    "10. points, tries, penalties"
   ]
  },
  {
   "cell_type": "markdown",
   "metadata": {},
   "source": [
    "\n",
    "\n",
    "| Column                | Num Null |\n",
    "|:----------------------|:---------|\n",
    "| nz_drop_goal_miss     | 5        |\n",
    "| nz_drop_goal_att      | 6        |\n",
    "| opp_drop_goal_miss    | 6        |\n",
    "| opp_drop_goal_att     | 6        |\n",
    "| nz_passes             | 8        |\n",
    "| opp_passes            | 8        |\n",
    "| nz_possession_1h      | 29       |\n",
    "| nz_possession_2h      | 29       |\n",
    "| nz_possession_total   | 19       |\n",
    "| opp_possession_1h     | 29       |\n",
    "| opp_possession_2h     | 29       |\n",
    "| opp_possession_total  | 19       |\n",
    "| nz_territory_1h       | 32       |\n",
    "| nz_territory_2h       | 32       |\n",
    "| nz_territory_total    | 22       |\n",
    "| opp_territory_1h      | 32       |\n",
    "| opp_territory_2h      | 32       |\n",
    "| opp_territory_total   | 22       |\n",
    "| nz_maul_perc          | 20       |\n",
    "| opp_maul_perc         | 11       |\n",
    "| nz_freekick_conceded  | 90       |\n",
    "| opp_freekick_conceded | 90       |"
   ]
  },
  {
   "cell_type": "markdown",
   "metadata": {},
   "source": [
    "### load data"
   ]
  },
  {
   "cell_type": "code",
   "execution_count": 3,
   "metadata": {
    "scrolled": true
   },
   "outputs": [
    {
     "name": "stdout",
     "output_type": "stream",
     "text": [
      "LICENSE                  complete_df.csv          statsguru-query.png\r\n",
      "README.md                eda.ipynb                statsguru_scraper_ex.py\r\n",
      "checklist.md             \u001b[34minfograph_examples\u001b[m\u001b[m/      test.csv\r\n",
      "clean_data.py            pca.py                   visualizations.ipynb\r\n",
      "clean_df_complete.csv    scrape.py\r\n"
     ]
    }
   ],
   "source": [
    "ls"
   ]
  },
  {
   "cell_type": "code",
   "execution_count": 203,
   "metadata": {
    "collapsed": true
   },
   "outputs": [],
   "source": [
    "%matplotlib inline\n",
    "from IPython.core.pylabtools import figsize\n",
    "import matplotlib.pyplot as plt\n",
    "import pandas as pd \n",
    "import numpy as np\n",
    "\n",
    "plt.style.use('ggplot')"
   ]
  },
  {
   "cell_type": "code",
   "execution_count": 14,
   "metadata": {
    "collapsed": true
   },
   "outputs": [],
   "source": [
    "df = pd.read_csv('clean_df_complete.csv', parse_dates=['date'])"
   ]
  },
  {
   "cell_type": "code",
   "execution_count": 16,
   "metadata": {},
   "outputs": [
    {
     "name": "stdout",
     "output_type": "stream",
     "text": [
      "Wins DF shape:  (117, 113)\n",
      "Loses DF shape:  (20, 113)\n"
     ]
    }
   ],
   "source": [
    "dfW = df[df.result == 'W']\n",
    "dfL = df[df.result != 'W']\n",
    "\n",
    "print('Wins DF shape: ', dfW.shape)\n",
    "print('Loses DF shape: ', dfL.shape)"
   ]
  },
  {
   "cell_type": "markdown",
   "metadata": {},
   "source": [
    "### timeline of wins & losses"
   ]
  },
  {
   "cell_type": "code",
   "execution_count": 61,
   "metadata": {},
   "outputs": [
    {
     "name": "stdout",
     "output_type": "stream",
     "text": [
      "            point_diff result  year\n",
      "date                               \n",
      "2008-06-21          32      W  2008\n",
      "2008-07-05          11      W  2008\n",
      "2008-07-12          -2      L  2008\n",
      "2008-07-26         -15      L  2008\n",
      "2008-08-02          29      W  2008\n"
     ]
    }
   ],
   "source": [
    "df1 = df[['date','point_diff', 'result', 'year']]\n",
    "df1.set_index('date', inplace=True)\n",
    "print(df1.head())\n",
    "\n",
    "dfW1 = df1[df1.result == 'W']\n",
    "dfL1 = df1[df1.result == 'L']\n",
    "dfD1 = df1[df1.result == 'D']"
   ]
  },
  {
   "cell_type": "code",
   "execution_count": 63,
   "metadata": {},
   "outputs": [
    {
     "name": "stdout",
     "output_type": "stream",
     "text": [
      "            point_diff result  year\n",
      "date                               \n",
      "2009-06-13          -5      L  2009\n",
      "2009-06-20           4      W  2009\n",
      "2009-06-27          21      W  2009\n",
      "2009-07-18           6      W  2009\n",
      "2009-07-25          -9      L  2009\n"
     ]
    }
   ],
   "source": [
    "df09 = df1[df1.year == 2009]\n",
    "print(df09.head())\n",
    "\n",
    "dfW09 = df09[df09.result == 'W']\n",
    "dfL09 = df09[df09.result == 'L']\n",
    "dfD09 = df09[df09.result == 'D']"
   ]
  },
  {
   "cell_type": "code",
   "execution_count": 204,
   "metadata": {
    "scrolled": true
   },
   "outputs": [
    {
     "data": {
      "text/plain": [
       "<matplotlib.collections.PathCollection at 0x11389c2b0>"
      ]
     },
     "execution_count": 204,
     "metadata": {},
     "output_type": "execute_result"
    },
    {
     "data": {
      "image/png": "[encoded data removed]",
      "text/plain": [
       "<matplotlib.figure.Figure at 0x11cd325f8>"
      ]
     },
     "metadata": {},
     "output_type": "display_data"
    }
   ],
   "source": [
    "from IPython.core.pylabtools import figsize\n",
    "\n",
    "colors = [\"#348ABD\", \"#A60628\"]\n",
    "\n",
    "plt.figure(figsize=(13,5))\n",
    "plt.bar(dfW1.index, dfW1.point_diff, width=6, alpha=.6, color=colors[0],\n",
    "        edgecolor=colors[0],\n",
    "        linewidth=2)\n",
    "plt.bar(dfL1.index, dfL1.point_diff, width=5, alpha=.5, color=colors[1],\n",
    "        edgecolor=colors[1],\n",
    "        linewidth=2) \n",
    "plt.scatter(dfD1.index, dfD1.point_diff, s=20, c='black', marker='X')"
   ]
  },
  {
   "cell_type": "code",
   "execution_count": 205,
   "metadata": {},
   "outputs": [
    {
     "data": {
      "image/png": "[encoded data removed]",
      "text/plain": [
       "<matplotlib.figure.Figure at 0x1133d3a58>"
      ]
     },
     "metadata": {},
     "output_type": "display_data"
    }
   ],
   "source": [
    "from IPython.core.pylabtools import figsize\n",
    "import matplotlib.dates as mdates\n",
    "myFmt = mdates.DateFormatter('%d-%b-%y')\n",
    "\n",
    "colors = [\"#348ABD\", \"#A60628\"]\n",
    "_xticks = [df09.index.min(), df09.index.max()]\n",
    "\n",
    "fig, ax = plt.subplots(figsize=(12,4))\n",
    "# plt.figure()\n",
    "ax.bar(dfW09.index, dfW09.point_diff, width=5, alpha=.6, color=colors[0],\n",
    "        edgecolor=colors[0],\n",
    "        linewidth=2)\n",
    "ax.bar(dfL09.index, dfL09.point_diff, width=5, alpha=.5, color=colors[1],\n",
    "        edgecolor=colors[1],\n",
    "        linewidth=2) \n",
    "ax.scatter(dfD09.index, dfD09.point_diff, s=20, c='black', marker='X')\n",
    "# ax.set_xlim('05-Jun-09', '05-Dec-09')\n",
    "ax.set_xticks(df09.index)\n",
    "ax.set_xticklabels(df09.index, rotation=40)\n",
    "ax.xaxis.set_major_formatter(myFmt)"
   ]
  },
  {
   "cell_type": "markdown",
   "metadata": {},
   "source": [
    "Use the above plots as general framework. Need to clean up design, condense space between date gaps, or plot sequence of individiual years."
   ]
  },
  {
   "cell_type": "markdown",
   "metadata": {},
   "source": [
    "### territory & possession "
   ]
  },
  {
   "cell_type": "code",
   "execution_count": 85,
   "metadata": {},
   "outputs": [
    {
     "data": {
      "text/html": [
       "<div>\n",
       "<style scoped>\n",
       "    .dataframe tbody tr th:only-of-type {\n",
       "        vertical-align: middle;\n",
       "    }\n",
       "\n",
       "    .dataframe tbody tr th {\n",
       "        vertical-align: top;\n",
       "    }\n",
       "\n",
       "    .dataframe thead th {\n",
       "        text-align: right;\n",
       "    }\n",
       "</style>\n",
       "<table border=\"1\" class=\"dataframe\">\n",
       "  <thead>\n",
       "    <tr style=\"text-align: right;\">\n",
       "      <th></th>\n",
       "      <th>nz_territory_total</th>\n",
       "      <th>opp_territory_total</th>\n",
       "    </tr>\n",
       "  </thead>\n",
       "  <tbody>\n",
       "    <tr>\n",
       "      <th>count</th>\n",
       "      <td>98.00000</td>\n",
       "      <td>98.00000</td>\n",
       "    </tr>\n",
       "    <tr>\n",
       "      <th>mean</th>\n",
       "      <td>0.52398</td>\n",
       "      <td>0.47602</td>\n",
       "    </tr>\n",
       "    <tr>\n",
       "      <th>std</th>\n",
       "      <td>0.10225</td>\n",
       "      <td>0.10225</td>\n",
       "    </tr>\n",
       "    <tr>\n",
       "      <th>min</th>\n",
       "      <td>0.30000</td>\n",
       "      <td>0.20000</td>\n",
       "    </tr>\n",
       "    <tr>\n",
       "      <th>25%</th>\n",
       "      <td>0.44000</td>\n",
       "      <td>0.41000</td>\n",
       "    </tr>\n",
       "    <tr>\n",
       "      <th>50%</th>\n",
       "      <td>0.53500</td>\n",
       "      <td>0.46500</td>\n",
       "    </tr>\n",
       "    <tr>\n",
       "      <th>75%</th>\n",
       "      <td>0.59000</td>\n",
       "      <td>0.56000</td>\n",
       "    </tr>\n",
       "    <tr>\n",
       "      <th>max</th>\n",
       "      <td>0.80000</td>\n",
       "      <td>0.70000</td>\n",
       "    </tr>\n",
       "  </tbody>\n",
       "</table>\n",
       "</div>"
      ],
      "text/plain": [
       "       nz_territory_total  opp_territory_total\n",
       "count            98.00000             98.00000\n",
       "mean              0.52398              0.47602\n",
       "std               0.10225              0.10225\n",
       "min               0.30000              0.20000\n",
       "25%               0.44000              0.41000\n",
       "50%               0.53500              0.46500\n",
       "75%               0.59000              0.56000\n",
       "max               0.80000              0.70000"
      ]
     },
     "execution_count": 85,
     "metadata": {},
     "output_type": "execute_result"
    }
   ],
   "source": [
    "dfW[['nz_territory_total', 'opp_territory_total']].describe()"
   ]
  },
  {
   "cell_type": "code",
   "execution_count": 86,
   "metadata": {},
   "outputs": [
    {
     "data": {
      "text/html": [
       "<div>\n",
       "<style scoped>\n",
       "    .dataframe tbody tr th:only-of-type {\n",
       "        vertical-align: middle;\n",
       "    }\n",
       "\n",
       "    .dataframe tbody tr th {\n",
       "        vertical-align: top;\n",
       "    }\n",
       "\n",
       "    .dataframe thead th {\n",
       "        text-align: right;\n",
       "    }\n",
       "</style>\n",
       "<table border=\"1\" class=\"dataframe\">\n",
       "  <thead>\n",
       "    <tr style=\"text-align: right;\">\n",
       "      <th></th>\n",
       "      <th>nz_territory_total</th>\n",
       "      <th>opp_territory_total</th>\n",
       "    </tr>\n",
       "  </thead>\n",
       "  <tbody>\n",
       "    <tr>\n",
       "      <th>count</th>\n",
       "      <td>17.000000</td>\n",
       "      <td>17.000000</td>\n",
       "    </tr>\n",
       "    <tr>\n",
       "      <th>mean</th>\n",
       "      <td>0.521765</td>\n",
       "      <td>0.478235</td>\n",
       "    </tr>\n",
       "    <tr>\n",
       "      <th>std</th>\n",
       "      <td>0.107426</td>\n",
       "      <td>0.107426</td>\n",
       "    </tr>\n",
       "    <tr>\n",
       "      <th>min</th>\n",
       "      <td>0.330000</td>\n",
       "      <td>0.210000</td>\n",
       "    </tr>\n",
       "    <tr>\n",
       "      <th>25%</th>\n",
       "      <td>0.470000</td>\n",
       "      <td>0.420000</td>\n",
       "    </tr>\n",
       "    <tr>\n",
       "      <th>50%</th>\n",
       "      <td>0.510000</td>\n",
       "      <td>0.490000</td>\n",
       "    </tr>\n",
       "    <tr>\n",
       "      <th>75%</th>\n",
       "      <td>0.580000</td>\n",
       "      <td>0.530000</td>\n",
       "    </tr>\n",
       "    <tr>\n",
       "      <th>max</th>\n",
       "      <td>0.790000</td>\n",
       "      <td>0.670000</td>\n",
       "    </tr>\n",
       "  </tbody>\n",
       "</table>\n",
       "</div>"
      ],
      "text/plain": [
       "       nz_territory_total  opp_territory_total\n",
       "count           17.000000            17.000000\n",
       "mean             0.521765             0.478235\n",
       "std              0.107426             0.107426\n",
       "min              0.330000             0.210000\n",
       "25%              0.470000             0.420000\n",
       "50%              0.510000             0.490000\n",
       "75%              0.580000             0.530000\n",
       "max              0.790000             0.670000"
      ]
     },
     "execution_count": 86,
     "metadata": {},
     "output_type": "execute_result"
    }
   ],
   "source": [
    "dfL[['nz_territory_total', 'opp_territory_total']].describe()"
   ]
  },
  {
   "cell_type": "code",
   "execution_count": 97,
   "metadata": {},
   "outputs": [
    {
     "data": {
      "text/html": [
       "<div>\n",
       "<style scoped>\n",
       "    .dataframe tbody tr th:only-of-type {\n",
       "        vertical-align: middle;\n",
       "    }\n",
       "\n",
       "    .dataframe tbody tr th {\n",
       "        vertical-align: top;\n",
       "    }\n",
       "\n",
       "    .dataframe thead th {\n",
       "        text-align: right;\n",
       "    }\n",
       "</style>\n",
       "<table border=\"1\" class=\"dataframe\">\n",
       "  <thead>\n",
       "    <tr style=\"text-align: right;\">\n",
       "      <th></th>\n",
       "      <th>nz_possession_total</th>\n",
       "      <th>opp_possession_total</th>\n",
       "    </tr>\n",
       "  </thead>\n",
       "  <tbody>\n",
       "    <tr>\n",
       "      <th>count</th>\n",
       "      <td>101.000000</td>\n",
       "      <td>101.000000</td>\n",
       "    </tr>\n",
       "    <tr>\n",
       "      <th>mean</th>\n",
       "      <td>0.522178</td>\n",
       "      <td>0.477822</td>\n",
       "    </tr>\n",
       "    <tr>\n",
       "      <th>std</th>\n",
       "      <td>0.100584</td>\n",
       "      <td>0.100584</td>\n",
       "    </tr>\n",
       "    <tr>\n",
       "      <th>min</th>\n",
       "      <td>0.340000</td>\n",
       "      <td>0.000000</td>\n",
       "    </tr>\n",
       "    <tr>\n",
       "      <th>25%</th>\n",
       "      <td>0.450000</td>\n",
       "      <td>0.420000</td>\n",
       "    </tr>\n",
       "    <tr>\n",
       "      <th>50%</th>\n",
       "      <td>0.520000</td>\n",
       "      <td>0.480000</td>\n",
       "    </tr>\n",
       "    <tr>\n",
       "      <th>75%</th>\n",
       "      <td>0.580000</td>\n",
       "      <td>0.550000</td>\n",
       "    </tr>\n",
       "    <tr>\n",
       "      <th>max</th>\n",
       "      <td>1.000000</td>\n",
       "      <td>0.660000</td>\n",
       "    </tr>\n",
       "  </tbody>\n",
       "</table>\n",
       "</div>"
      ],
      "text/plain": [
       "       nz_possession_total  opp_possession_total\n",
       "count           101.000000            101.000000\n",
       "mean              0.522178              0.477822\n",
       "std               0.100584              0.100584\n",
       "min               0.340000              0.000000\n",
       "25%               0.450000              0.420000\n",
       "50%               0.520000              0.480000\n",
       "75%               0.580000              0.550000\n",
       "max               1.000000              0.660000"
      ]
     },
     "execution_count": 97,
     "metadata": {},
     "output_type": "execute_result"
    }
   ],
   "source": [
    "statsW = dfW[['nz_possession_total', 'opp_possession_total']].describe()\n",
    "statsW"
   ]
  },
  {
   "cell_type": "code",
   "execution_count": 90,
   "metadata": {},
   "outputs": [],
   "source": [
    "statsL = dfL[['nz_possession_total', 'opp_possession_total']].describe()"
   ]
  },
  {
   "cell_type": "code",
   "execution_count": 91,
   "metadata": {},
   "outputs": [
    {
     "name": "stdout",
     "output_type": "stream",
     "text": [
      "<class 'pandas.core.frame.DataFrame'>\n"
     ]
    },
    {
     "data": {
      "text/html": [
       "<div>\n",
       "<style scoped>\n",
       "    .dataframe tbody tr th:only-of-type {\n",
       "        vertical-align: middle;\n",
       "    }\n",
       "\n",
       "    .dataframe tbody tr th {\n",
       "        vertical-align: top;\n",
       "    }\n",
       "\n",
       "    .dataframe thead th {\n",
       "        text-align: right;\n",
       "    }\n",
       "</style>\n",
       "<table border=\"1\" class=\"dataframe\">\n",
       "  <thead>\n",
       "    <tr style=\"text-align: right;\">\n",
       "      <th></th>\n",
       "      <th>nz_possession_total</th>\n",
       "      <th>opp_possession_total</th>\n",
       "    </tr>\n",
       "  </thead>\n",
       "  <tbody>\n",
       "    <tr>\n",
       "      <th>count</th>\n",
       "      <td>101.000000</td>\n",
       "      <td>101.000000</td>\n",
       "    </tr>\n",
       "    <tr>\n",
       "      <th>mean</th>\n",
       "      <td>0.522178</td>\n",
       "      <td>0.477822</td>\n",
       "    </tr>\n",
       "    <tr>\n",
       "      <th>std</th>\n",
       "      <td>0.100584</td>\n",
       "      <td>0.100584</td>\n",
       "    </tr>\n",
       "    <tr>\n",
       "      <th>min</th>\n",
       "      <td>0.340000</td>\n",
       "      <td>0.000000</td>\n",
       "    </tr>\n",
       "    <tr>\n",
       "      <th>25%</th>\n",
       "      <td>0.450000</td>\n",
       "      <td>0.420000</td>\n",
       "    </tr>\n",
       "  </tbody>\n",
       "</table>\n",
       "</div>"
      ],
      "text/plain": [
       "       nz_possession_total  opp_possession_total\n",
       "count           101.000000            101.000000\n",
       "mean              0.522178              0.477822\n",
       "std               0.100584              0.100584\n",
       "min               0.340000              0.000000\n",
       "25%               0.450000              0.420000"
      ]
     },
     "execution_count": 91,
     "metadata": {},
     "output_type": "execute_result"
    }
   ],
   "source": [
    "print(type(statsW))\n",
    "statsW.head()"
   ]
  },
  {
   "cell_type": "code",
   "execution_count": 100,
   "metadata": {},
   "outputs": [
    {
     "name": "stdout",
     "output_type": "stream",
     "text": [
      "nz_possession_total     0.100584\n",
      "opp_possession_total    0.100584\n",
      "Name: std, dtype: float64\n",
      "nz_possession_total     0.522178\n",
      "opp_possession_total    0.477822\n",
      "Name: mean, dtype: float64\n"
     ]
    }
   ],
   "source": [
    "print(statsW.loc['std'])\n",
    "print(statsW.loc['mean'])"
   ]
  },
  {
   "cell_type": "code",
   "execution_count": 176,
   "metadata": {},
   "outputs": [
    {
     "name": "stdout",
     "output_type": "stream",
     "text": [
      "nz_possession_total     0.52\n",
      "opp_possession_total    0.48\n",
      "Name: 50%, dtype: float64\n",
      "nz_possession_total     0.58\n",
      "opp_possession_total    0.55\n",
      "Name: 75%, dtype: float64\n"
     ]
    }
   ],
   "source": [
    "print(statsW.loc['50%'])\n",
    "print(statsW.loc['75%'])"
   ]
  },
  {
   "cell_type": "code",
   "execution_count": 191,
   "metadata": {},
   "outputs": [
    {
     "name": "stdout",
     "output_type": "stream",
     "text": [
      "0.13\n"
     ]
    },
    {
     "data": {
      "text/plain": [
       "([<matplotlib.axis.XTick at 0x11c682b00>,\n",
       "  <matplotlib.axis.XTick at 0x11c661e80>,\n",
       "  <matplotlib.axis.XTick at 0x11c67bd68>],\n",
       " <a list of 3 Text xticklabel objects>)"
      ]
     },
     "execution_count": 191,
     "metadata": {},
     "output_type": "execute_result"
    },
    {
     "data": {
      "image/png": "[encoded data removed]",
      "text/plain": [
       "<matplotlib.figure.Figure at 0x11c48e3c8>"
      ]
     },
     "metadata": {},
     "output_type": "display_data"
    }
   ],
   "source": [
    "_xerr=statsW.loc['75%'][0]-statsW.loc['25%'][0]\n",
    "print(_xerr)\n",
    "\n",
    "_x = np.arange(.45, .59, .01)\n",
    "_xO = np.arange(.42, .55, .01)\n",
    "_y = np.ones(_x.shape[0])\n",
    "_yO = np.ones(_xO.shape[0])\n",
    "_y += .01\n",
    "_yO -= .01\n",
    "\n",
    "\n",
    "plt.figure(figsize=(10,1.5))\n",
    "plt.barh(1,statsW.loc['50%'][0], color=colors[0], \n",
    "        edgecolor=colors[0],\n",
    "        linewidth=.5,\n",
    "        alpha=0.7)\n",
    "plt.barh(1,statsW.loc['50%'][1], left=statsW.loc['50%'][0], color=colors[1], \n",
    "         edgecolor=colors[1],\n",
    "        linewidth=.5,\n",
    "        alpha=0.4)\n",
    "plt.plot(_x, _y, color='#201E50', linewidth=3, alpha=0.7)\n",
    "plt.plot(_xO, _yO, color='#DB162F', linewidth=3, alpha=0.7)\n",
    "plt.xlim(0,1)\n",
    "plt.yticks([1],[''])\n",
    "plt.xticks([statsW.loc['25%'][0], statsW.loc['50%'][0], statsW.loc['75%'][0]])"
   ]
  },
  {
   "cell_type": "code",
   "execution_count": 192,
   "metadata": {},
   "outputs": [
    {
     "data": {
      "image/png": "[encoded data removed]",
      "text/plain": [
       "<matplotlib.figure.Figure at 0x11c67b2b0>"
      ]
     },
     "metadata": {},
     "output_type": "display_data"
    }
   ],
   "source": [
    "_xerr=statsW.loc['75%'][0]-statsW.loc['25%'][0]\n",
    "\n",
    "_x = np.arange(.45, .59, .01)\n",
    "_xO = np.arange(.42, .55, .01)\n",
    "_y = np.ones(_x.shape[0])\n",
    "_yO = np.ones(_xO.shape[0])\n",
    "\n",
    "plt.figure(figsize=(12,3))\n",
    "\n",
    "ax = plt.subplot(211)\n",
    "\n",
    "plt.barh(1,statsW.loc['50%'][0], color=colors[0], \n",
    "        edgecolor=colors[0],\n",
    "        linewidth=.5,\n",
    "        alpha=0.7)\n",
    "plt.plot(_x, _y, color='#201E50', linewidth=3, alpha=0.7)\n",
    "plt.xlim(0,1)\n",
    "plt.yticks([1],['NZ'])\n",
    "plt.xticks([statsW.loc['25%'][0], statsW.loc['50%'][0], statsW.loc['75%'][0]])\n",
    "\n",
    "ax = plt.subplot(212)\n",
    "plt.barh(1,statsW.loc['50%'][1], color=colors[1], \n",
    "         edgecolor=colors[1],\n",
    "        linewidth=.5,\n",
    "        alpha=0.4)\n",
    "plt.plot(_xO, _yO, color='#DB162F', linewidth=3, alpha=0.7)\n",
    "plt.xlim(0,1)\n",
    "plt.yticks([1],['Opp'])\n",
    "plt.xticks([statsW.loc['25%'][1], statsW.loc['50%'][1], statsW.loc['75%'][1]])\n",
    "\n",
    "plt.tight_layout()"
   ]
  },
  {
   "cell_type": "code",
   "execution_count": null,
   "metadata": {},
   "outputs": [],
   "source": []
  },
  {
   "cell_type": "code",
   "execution_count": null,
   "metadata": {
    "collapsed": true
   },
   "outputs": [],
   "source": []
  },
  {
   "cell_type": "code",
   "execution_count": null,
   "metadata": {
    "collapsed": true
   },
   "outputs": [],
   "source": []
  },
  {
   "cell_type": "code",
   "execution_count": null,
   "metadata": {
    "collapsed": true
   },
   "outputs": [],
   "source": []
  },
  {
   "cell_type": "code",
   "execution_count": null,
   "metadata": {
    "collapsed": true
   },
   "outputs": [],
   "source": []
  },
  {
   "cell_type": "code",
   "execution_count": null,
   "metadata": {
    "collapsed": true
   },
   "outputs": [],
   "source": [
    "dfW['nz_final_score'].hist(bins=100)\n",
    "dfL['nz_final_score'].hist(bins=100)"
   ]
  },
  {
   "cell_type": "code",
   "execution_count": null,
   "metadata": {
    "collapsed": true
   },
   "outputs": [],
   "source": [
    "dfW['point_diff'].hist(bins=50)\n",
    "dfL['point_diff'].hist(bins=50)"
   ]
  },
  {
   "cell_type": "code",
   "execution_count": null,
   "metadata": {
    "collapsed": true
   },
   "outputs": [],
   "source": [
    "dfW['nz_tries'].hist(bins=20)\n",
    "dfL['nz_tries'].hist(bins=20)"
   ]
  },
  {
   "cell_type": "code",
   "execution_count": null,
   "metadata": {
    "collapsed": true
   },
   "outputs": [],
   "source": [
    "dfW.nz_offloads.hist(bins=50)\n",
    "dfL.nz_offloads.hist(bins=50)"
   ]
  },
  {
   "cell_type": "code",
   "execution_count": null,
   "metadata": {
    "collapsed": true
   },
   "outputs": [],
   "source": [
    "dfW.turnover_diff.hist(bins=50)\n",
    "dfL.turnover_diff.hist(bins=50)"
   ]
  },
  {
   "cell_type": "code",
   "execution_count": null,
   "metadata": {
    "collapsed": true
   },
   "outputs": [],
   "source": [
    "dfW.nz_territory_total.hist(bins=50)\n",
    "dfL.nz_territory_total.hist(bins=50)"
   ]
  },
  {
   "cell_type": "code",
   "execution_count": null,
   "metadata": {
    "collapsed": true
   },
   "outputs": [],
   "source": [
    "dfW.opp_possession_total.hist(bins=50)\n",
    "dfL.opp_possession_total.hist(bins=50)"
   ]
  },
  {
   "cell_type": "code",
   "execution_count": null,
   "metadata": {
    "collapsed": true
   },
   "outputs": [],
   "source": [
    "dfW.opp_territory_1h.hist(bins=50)\n",
    "dfL.opp_territory_1h.hist(bins=50)"
   ]
  },
  {
   "cell_type": "code",
   "execution_count": null,
   "metadata": {
    "collapsed": true
   },
   "outputs": [],
   "source": [
    "dfW.opp_territory_2h.hist(bins=50)\n",
    "dfL.opp_territory_2h.hist(bins=50)"
   ]
  },
  {
   "cell_type": "code",
   "execution_count": null,
   "metadata": {
    "collapsed": true
   },
   "outputs": [],
   "source": [
    "dfL.opp_territory_total.hist(bins=50)\n",
    "dfL.nz_territory_total.hist(bins=50)"
   ]
  },
  {
   "cell_type": "code",
   "execution_count": null,
   "metadata": {
    "collapsed": true
   },
   "outputs": [],
   "source": [
    "dfW[['nz_possession_1h'       \n",
    ",'nz_possession_2h'          \n",
    ",'nz_possession_total'     \n",
    ",'opp_possession_1h'       \n",
    ",'opp_possession_2h'         \n",
    ",'opp_possession_total'      \n",
    ",'nz_territory_1h'           \n",
    ",'nz_territory_2h'           \n",
    ",'nz_territory_total'        \n",
    ",'opp_territory_1h'          \n",
    ",'opp_territory_2h'          \n",
    ",'opp_territory_total']].head()"
   ]
  },
  {
   "cell_type": "code",
   "execution_count": null,
   "metadata": {
    "collapsed": true
   },
   "outputs": [],
   "source": [
    "avg_pos_1h_w = dfW['nz_possession_1h'].mean()\n",
    "avg_pos_2h_w = dfW['nz_possession_2h'].mean()\n",
    "avg_pos_tot_w = dfW['nz_possession_total'].mean()\n",
    "\n",
    "avg_pos_1h_l = dfL['nz_possession_1h'].mean()\n",
    "avg_pos_2h_l = dfL['nz_possession_2h'].mean()\n",
    "avg_pos_tot_l = dfL['nz_possession_total'].mean()\n",
    "\n",
    "print(f'avg pos 1h win: {round(avg_pos_1h_w,3)}')\n",
    "print(f'avg pos 2h win: {round(avg_pos_2h_w,3)}')\n",
    "print(f'avg pos total win: {round(avg_pos_tot_w,3)}')\n",
    "print(f'avg pos 1h loss: {round(avg_pos_1h_l,3)}')\n",
    "print(f'avg pos 2h loss: {round(avg_pos_2h_l,3)}')\n",
    "print(f'avg pos total loss: {round(avg_pos_tot_l,3)}')"
   ]
  },
  {
   "cell_type": "code",
   "execution_count": null,
   "metadata": {
    "collapsed": true
   },
   "outputs": [],
   "source": []
  },
  {
   "cell_type": "code",
   "execution_count": null,
   "metadata": {
    "collapsed": true
   },
   "outputs": [],
   "source": []
  },
  {
   "cell_type": "code",
   "execution_count": null,
   "metadata": {
    "collapsed": true
   },
   "outputs": [],
   "source": []
  },
  {
   "cell_type": "code",
   "execution_count": null,
   "metadata": {
    "collapsed": true
   },
   "outputs": [],
   "source": []
  },
  {
   "cell_type": "code",
   "execution_count": null,
   "metadata": {
    "collapsed": true
   },
   "outputs": [],
   "source": []
  },
  {
   "cell_type": "code",
   "execution_count": null,
   "metadata": {
    "collapsed": true
   },
   "outputs": [],
   "source": []
  },
  {
   "cell_type": "code",
   "execution_count": null,
   "metadata": {
    "collapsed": true
   },
   "outputs": [],
   "source": []
  },
  {
   "cell_type": "code",
   "execution_count": null,
   "metadata": {
    "collapsed": true
   },
   "outputs": [],
   "source": []
  },
  {
   "cell_type": "code",
   "execution_count": null,
   "metadata": {
    "collapsed": true
   },
   "outputs": [],
   "source": []
  }
 ],
 "metadata": {
  "kernelspec": {
   "display_name": "Python 3",
   "language": "python",
   "name": "python3"
  },
  "language_info": {
   "codemirror_mode": {
    "name": "ipython",
    "version": 3
   },
   "file_extension": ".py",
   "mimetype": "text/x-python",
   "name": "python",
   "nbconvert_exporter": "python",
   "pygments_lexer": "ipython3",
   "version": "3.6.1"
  }
 },
 "nbformat": 4,
 "nbformat_minor": 2
}
